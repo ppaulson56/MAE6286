{
 "cells": [
  {
   "cell_type": "code",
   "execution_count": 26,
   "metadata": {},
   "outputs": [],
   "source": [
    "import numpy\n",
    "from scipy import linalg\n",
    "from matplotlib import pyplot\n",
    "%matplotlib inline"
   ]
  },
  {
   "cell_type": "code",
   "execution_count": 27,
   "metadata": {},
   "outputs": [],
   "source": [
    "L = 1.0\n",
    "nx = 51\n",
    "dx = L / (nx-1)\n",
    "x = numpy.linspace(0.0, L, num=nx)\n",
    "\n",
    "alpha = 1.22e-3\n",
    "T0 = numpy.zeros(nx)\n",
    "T0[0] = 100.0"
   ]
  },
  {
   "cell_type": "code",
   "execution_count": 44,
   "metadata": {},
   "outputs": [],
   "source": [
    "def solve_1d(T0, nt, dt, dx, alpha, cI, cE, bc):\n",
    "    T = T0.copy()\n",
    "    N = len(T0) - 2\n",
    "    A, b_bc = lhs_operator(N, dt, dx, alpha, cI, bc)\n",
    "    for n in range(nt):\n",
    "        b = rhs_vector(T, dt, dx, alpha, cE)\n",
    "        T[1:-1] = linalg.solve(A, b)\n",
    "        update_boundaries(T, dx, bc)\n",
    "    return T"
   ]
  },
  {
   "cell_type": "code",
   "execution_count": 45,
   "metadata": {},
   "outputs": [],
   "source": [
    "def lhs_operator(N, dt, dx, alpha, cI, bc):\n",
    "    I = numpy.identity(N)\n",
    "    L, b_bc = laplacian_1d(N, dx, bc)\n",
    "    A = I / dt - cI * alpha * L\n",
    "    return A, b_bc"
   ]
  },
  {
   "cell_type": "code",
   "execution_count": 46,
   "metadata": {},
   "outputs": [],
   "source": [
    "def laplacian_1d(N, dx, bc):\n",
    "    D = numpy.diag(-2.0 / dx**2 * numpy.ones(N))\n",
    "    L = numpy.diag(1.0 / dx**2 * numpy.ones(N - 1), k=-1)\n",
    "    U = numpy.diag(1.0 / dx**2 * numpy.ones(N - 1), k=+1)\n",
    "    A = D + U + L\n",
    "    b_bc = numpy.zeros(N)\n",
    "    # Left boundary\n",
    "    if bc['left']['type'] == 'Dirichlet':\n",
    "        b_bc[0] = bc['left']['value'] / dx**2\n",
    "    elif bc['left]']['type'] == 'Neumann':\n",
    "        A[0,0] = -1.0 / dx**2\n",
    "        b_bc[0] = bc['left']['value'] / dx\n",
    "    # Right boundary\n",
    "    if bc['right']['type'] == 'Dirichlet':\n",
    "        b_bc[-1] = bc['right']['value'] / dx**2\n",
    "    elif bc['right']['type'] == 'Neumann':\n",
    "        A[-1,-1] = -1.0 / dx**2\n",
    "        b_bc[-1] = bc['right']['value'] / dx\n",
    "    return A, b_bc"
   ]
  },
  {
   "cell_type": "code",
   "execution_count": 47,
   "metadata": {},
   "outputs": [],
   "source": [
    "bc_left = {'type': 'Dirichlet', 'value': 100.0}\n",
    "bc_right = {'type': 'Neumann', 'value': 0.0}\n",
    "bc = {'left' : bc_left, 'right' : bc_right}"
   ]
  },
  {
   "cell_type": "code",
   "execution_count": 48,
   "metadata": {},
   "outputs": [],
   "source": [
    "def rhs_vector(T, dt, dx, alpha, cE):\n",
    "    b = T[1:-1] / dt + cE * alpha * (T[:-2] - 2 * T[1:-1] + T[2:]) / dx**2\n",
    "    return b"
   ]
  },
  {
   "cell_type": "code",
   "execution_count": 49,
   "metadata": {},
   "outputs": [],
   "source": [
    "def update_boundaries(T, dx, bc):\n",
    "    T[0] = get_boundary_value(T[1], dx, bc['left'])\n",
    "    T[-1] = get_boundary_value(T[-2], dx, bc['right'])\n",
    "    return"
   ]
  },
  {
   "cell_type": "code",
   "execution_count": 50,
   "metadata": {},
   "outputs": [],
   "source": [
    "def get_boundary_value(T_neighbor, dx, bc):\n",
    "    if bc['type'] == 'Dirichlet':\n",
    "        return bc['value']\n",
    "    elif bc['type'] == 'Neumann':\n",
    "        return T_neighbor + bc['value'] * dx\n",
    "    else:\n",
    "        raise ValueError('Only Dirichlet and Neumann are supported')\n",
    "    return"
   ]
  },
  {
   "cell_type": "code",
   "execution_count": 51,
   "metadata": {},
   "outputs": [
    {
     "data": {
      "text/plain": [
       "100.0"
      ]
     },
     "execution_count": 51,
     "metadata": {},
     "output_type": "execute_result"
    }
   ],
   "source": [
    "Tb = get_boundary_value(100.0, 1.0, {'type': 'Neumann', 'value': 0.0})\n",
    "Tb"
   ]
  },
  {
   "cell_type": "code",
   "execution_count": 58,
   "metadata": {},
   "outputs": [],
   "source": [
    "sigma = 0.5\n",
    "dt = sigma * dx**2 / alpha\n",
    "nt = 100\n",
    "\n",
    "T = solve_1d(T0, nt, dt, dx, alpha, 1.0, 0.5, bc)"
   ]
  },
  {
   "cell_type": "code",
   "execution_count": 59,
   "metadata": {},
   "outputs": [
    {
     "data": {
      "text/plain": [
       "array([1.00000000e+02, 3.11609010e+01, 2.90029985e+01, 2.68738632e+01,\n",
       "       2.47871575e+01, 2.27557049e+01, 2.07912549e+01, 1.89042821e+01,\n",
       "       1.71038253e+01, 1.53973720e+01, 1.37907886e+01, 1.22882963e+01,\n",
       "       1.08924918e+01, 9.60440905e+00, 8.42361638e+00, 7.34834423e+00,\n",
       "       6.37563628e+00, 5.50151714e+00, 4.72116977e+00, 4.02911596e+00,\n",
       "       3.41939382e+00, 2.88572691e+00, 2.42168091e+00, 2.02080424e+00,\n",
       "       1.67675043e+00, 1.38338097e+00, 1.13484815e+00, 9.25658312e-01,\n",
       "       7.50716638e-01, 6.05354945e-01, 4.85344515e-01, 3.86896086e-01,\n",
       "       3.06649263e-01, 2.41653588e-01, 1.89343393e-01, 1.47508381e-01,\n",
       "       1.14261656e-01, 8.80066728e-02, 6.74043180e-02, 5.13410741e-02,\n",
       "       3.88989892e-02, 2.93279543e-02, 2.20206118e-02, 1.64900660e-02,\n",
       "       1.23504487e-02, 9.30030620e-03, 7.10871437e-03, 5.60399713e-03,\n",
       "       4.66491066e-03, 4.21416367e-03, 4.21416367e-03])"
      ]
     },
     "execution_count": 59,
     "metadata": {},
     "output_type": "execute_result"
    }
   ],
   "source": [
    "T"
   ]
  },
  {
   "cell_type": "code",
   "execution_count": 60,
   "metadata": {},
   "outputs": [
    {
     "data": {
      "text/plain": [
       "[<matplotlib.lines.Line2D at 0x7f46cf7fbf60>]"
      ]
     },
     "execution_count": 60,
     "metadata": {},
     "output_type": "execute_result"
    },
    {
     "data": {
      "image/png": "[encoded data removed]",
      "text/plain": [
       "<Figure size 432x288 with 1 Axes>"
      ]
     },
     "metadata": {},
     "output_type": "display_data"
    }
   ],
   "source": [
    "pyplot.plot(x,T)"
   ]
  },
  {
   "cell_type": "code",
   "execution_count": null,
   "metadata": {},
   "outputs": [],
   "source": []
  }
 ],
 "metadata": {
  "kernelspec": {
   "display_name": "Python 3",
   "language": "python",
   "name": "python3"
  },
  "language_info": {
   "codemirror_mode": {
    "name": "ipython",
    "version": 3
   },
   "file_extension": ".py",
   "mimetype": "text/x-python",
   "name": "python",
   "nbconvert_exporter": "python",
   "pygments_lexer": "ipython3",
   "version": "3.6.2"
  }
 },
 "nbformat": 4,
 "nbformat_minor": 2
}
