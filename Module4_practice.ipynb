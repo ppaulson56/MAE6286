{
 "cells": [
  {
   "cell_type": "code",
   "execution_count": 1,
   "metadata": {},
   "outputs": [],
   "source": [
    "import math\n",
    "import numpy\n",
    "from matplotlib import pyplot\n",
    "%matplotlib inline"
   ]
  },
  {
   "cell_type": "code",
   "execution_count": 2,
   "metadata": {},
   "outputs": [],
   "source": [
    "pyplot.rcParams['font.family'] = 'serif'\n",
    "pyplot.rcParams['font.size'] = 16"
   ]
  },
  {
   "cell_type": "code",
   "execution_count": 4,
   "metadata": {},
   "outputs": [],
   "source": [
    "#parameters\n",
    "g = 9.81\n",
    "vt = 4.9\n",
    "CD = 1.0 / 5.0\n",
    "CL = 1.0\n",
    "\n",
    "#IC\n",
    "v0 = 6.5\n",
    "theta0 = -0.1\n",
    "x0 = 0.0\n",
    "y0 = 2.0"
   ]
  },
  {
   "cell_type": "code",
   "execution_count": 5,
   "metadata": {},
   "outputs": [],
   "source": [
    "def rhs_phugoid(u, CL, CD, g, vt):\n",
    "    \"\"\"\n",
    "    Returns the right-hand side of the phugoid system of equations.\n",
    "    \n",
    "    Parameters\n",
    "    ----------\n",
    "    u : list or numpy.ndarray\n",
    "        Solution at the previous time step\n",
    "        as a list or 1D array of four floats.\n",
    "    CL : float\n",
    "        Lift coefficient.\n",
    "    CD : float\n",
    "        Drag coefficient.\n",
    "    g : float\n",
    "        Gravitational acceleration.\n",
    "    vt : float\n",
    "        Trim velocity.\n",
    "    \n",
    "    Returns\n",
    "    -------\n",
    "    rhs : numpy.ndarray\n",
    "        The right-hand side of the system\n",
    "        as a 1D array of four floats.\n",
    "    \"\"\"\n",
    "    v, theta, x, y = u\n",
    "    rhs = numpy.array([-g * math.sin(theta) - CD / CL * g / vt**2 * v**2,\n",
    "                       -g * math.cos(theta) / v + g / vt**2 * v,\n",
    "                       v * math.cos(theta),\n",
    "                       v * math.sin(theta)])\n",
    "    return rhs\n",
    "\n",
    "\n",
    "def euler_step(u, f, dt, *args):\n",
    "    \"\"\"\n",
    "    Returns the solution at the next time step using Euler's method.\n",
    "    \n",
    "    Parameters\n",
    "    ----------\n",
    "    u : numpy.ndarray\n",
    "        Solution at the previous time step\n",
    "        as a 1D array of floats.\n",
    "    f : function\n",
    "        Function to compute the right-hand side of the system.\n",
    "    dt : float\n",
    "        Time-step size.\n",
    "    args : tuple, optional\n",
    "        Positional arguments to pass to the function f.\n",
    "    \n",
    "    Returns\n",
    "    -------\n",
    "    u_new : numpy.ndarray\n",
    "        The solution at the next time step\n",
    "        as a 1D array of floats.\n",
    "    \"\"\"\n",
    "    u_new = u + dt * f(u, *args)\n",
    "    return u_new\n",
    "\n",
    "\n",
    "def l1_diff(u_coarse, u_fine, dt):\n",
    "    \"\"\"\n",
    "    Returns the difference in the L1-norm between the solution on\n",
    "    a coarse grid and the solution on a fine grid.\n",
    "    \n",
    "    Parameters\n",
    "    ----------\n",
    "    u_coarse : numpy.ndarray\n",
    "        Solution on the coarse grid as a 1D array of floats.\n",
    "    u_fine : numpy.ndarray\n",
    "        Solution on the fine grid as a 1D array of floats.\n",
    "    dt : float\n",
    "        Time-step size.\n",
    "    \n",
    "    Returns\n",
    "    -------\n",
    "    diff : float\n",
    "        The difference between the two solution in the L1-norm\n",
    "        scaled by the time-step size.\n",
    "    \"\"\"\n",
    "    N_coarse = u_coarse.shape[0]\n",
    "    N_fine = u_fine.shape[0]\n",
    "    ratio = math.ceil(N_fine / N_coarse)\n",
    "    diff = dt * numpy.sum(numpy.abs(u_coarse - u_fine[::ratio]))\n",
    "    return diff"
   ]
  },
  {
   "cell_type": "code",
   "execution_count": 6,
   "metadata": {},
   "outputs": [],
   "source": [
    "def rk2_step(u, f, dt, *args):\n",
    "    u_star = u + 0.5 * dt * f(u, *args)\n",
    "    u_new = u + dt * f(u_star, *args)\n",
    "    return u_new"
   ]
  },
  {
   "cell_type": "code",
   "execution_count": 9,
   "metadata": {},
   "outputs": [],
   "source": [
    "T = 15.0\n",
    "dt = 0.01\n",
    "N = int(T / dt) + 1\n",
    "\n",
    "u_euler = numpy.empty((N, 4))\n",
    "u_rk2 = numpy.empty((N, 4))\n",
    "\n",
    "u_euler[0] = numpy.array([v0, theta0, x0, y0])\n",
    "u_rk2[0] = numpy.array([v0, theta0, x0, y0])\n",
    "\n",
    "for n in range(N - 1):\n",
    "    u_euler[n + 1] = euler_step(u_euler[n], rhs_phugoid, dt, CL, CD, g, vt)\n",
    "    u_rk2[n + 1] = rk2_step(u_rk2[n], rhs_phugoid, dt, CL, CD, g, vt)"
   ]
  },
  {
   "cell_type": "code",
   "execution_count": 10,
   "metadata": {},
   "outputs": [],
   "source": [
    "x_euler = u_euler[:, 2]\n",
    "y_euler = u_euler[:, 3]\n",
    "x_rk2 = u_rk2[:, 2]\n",
    "y_rk2 = u_rk2[:, 3]"
   ]
  },
  {
   "cell_type": "code",
   "execution_count": 13,
   "metadata": {},
   "outputs": [],
   "source": [
    "idx_negative_euler = numpy.where(y_euler < 0.0)[0]\n",
    "if len(idx_negative_euler) == 0:\n",
    "    idx_ground_euler = N - 1\n",
    "    print('[Euler] Glider has not touched ground yet!')\n",
    "else:\n",
    "    idx_ground_euler = idx_negative_euler[0]\n",
    "\n",
    "idx_negative_rk2 = numpy.where(y_rk2 < 0.0)[0]\n",
    "if len(idx_negative_rk2) == 0:\n",
    "    idx_ground_rk2 = N - 1\n",
    "    print('[RK2] Glider has not touched ground yet!')\n",
    "else:\n",
    "    idx_ground_rk2 = idx_negative_rk2[0]"
   ]
  },
  {
   "cell_type": "code",
   "execution_count": 14,
   "metadata": {},
   "outputs": [
    {
     "name": "stdout",
     "output_type": "stream",
     "text": [
      "Are the x-values close? False\n",
      "Are the y-values close? False\n"
     ]
    }
   ],
   "source": [
    "# Check if to two scheme leads to the same numerical solution.\n",
    "print('Are the x-values close? {}'.format(numpy.allclose(x_euler, x_rk2)))\n",
    "print('Are the y-values close? {}'.format(numpy.allclose(y_euler, y_rk2)))"
   ]
  },
  {
   "cell_type": "code",
   "execution_count": 15,
   "metadata": {},
   "outputs": [
    {
     "name": "stdout",
     "output_type": "stream",
     "text": [
      "Distance traveled: 14.516\n"
     ]
    },
    {
     "data": {
      "image/png": "[encoded data removed]",
      "text/plain": [
       "<Figure size 648x432 with 2 Axes>"
      ]
     },
     "metadata": {},
     "output_type": "display_data"
    }
   ],
   "source": [
    "print('Distance traveled: {:.3f}'.format(x_rk2[idx_ground_rk2 - 1]))\n",
    "\n",
    "pyplot.figure(figsize=(9.0,6.0))\n",
    "pyplot.subplot(121)\n",
    "pyplot.grid()\n",
    "pyplot.xlabel('x')\n",
    "pyplot.ylabel('y')\n",
    "pyplot.plot(x_euler[:idx_ground_euler], y_euler[:idx_ground_euler],\n",
    "           label='Euler')\n",
    "pyplot.plot(x_rk2[:idx_ground_rk2], y_rk2[:idx_ground_rk2], label='RK2')\n",
    "pyplot.legend();\n",
    "pyplot.subplot(122)\n",
    "pyplot.grid()\n",
    "pyplot.xlabel('x')\n",
    "pyplot.ylabel('y')\n",
    "pyplot.plot(x_euler, y_euler, label='Euler')\n",
    "pyplot.plot(x_rk2, y_rk2, label='RK2')\n",
    "pyplot.xlim(0.0, 5.0)\n",
    "pyplot.ylim(1.8, 2.5);"
   ]
  },
  {
   "cell_type": "code",
   "execution_count": 20,
   "metadata": {},
   "outputs": [],
   "source": [
    "dt_values = [0.1, 0.05, 0.01, 0.005, 0.001]\n",
    "u_values = []\n",
    "\n",
    "for dt in dt_values:\n",
    "    N = int(T / dt) + 1\n",
    "    u = numpy.empty((N, 4))\n",
    "    u[0] = numpy.array([v0, theta0, x0, y0])\n",
    "    for n in range(N - 1):\n",
    "        u[n + 1] = rk2_step(u[n], rhs_phugoid, dt, CL, CD, g, vt)\n",
    "    u_values.append(u)"
   ]
  },
  {
   "cell_type": "code",
   "execution_count": 21,
   "metadata": {},
   "outputs": [],
   "source": [
    "diff_values = []\n",
    "for u, dt in zip(u_values, dt_values):\n",
    "    diff = l1_diff(u[:,2], u_values[-1][:, 2], dt)\n",
    "    diff_values.append(diff)"
   ]
  },
  {
   "cell_type": "code",
   "execution_count": 24,
   "metadata": {},
   "outputs": [
    {
     "data": {
      "image/png": "[encoded data removed]",
      "text/plain": [
       "<Figure size 432x432 with 1 Axes>"
      ]
     },
     "metadata": {},
     "output_type": "display_data"
    }
   ],
   "source": [
    "pyplot.figure(figsize=(6.0, 6.0))\n",
    "pyplot.title('L1-norm of the difference vs. time-step size')\n",
    "pyplot.xlabel('$\\Delta t$')\n",
    "pyplot.ylabel('Difference')\n",
    "pyplot.grid()\n",
    "pyplot.loglog(dt_values[:-1], diff_values[:-1],\n",
    "              color='C0', linestyle='--', marker='o')\n",
    "pyplot.axis('equal');"
   ]
  },
  {
   "cell_type": "code",
   "execution_count": 25,
   "metadata": {},
   "outputs": [
    {
     "name": "stdout",
     "output_type": "stream",
     "text": [
      "Observed order of convergence: p = 1.996\n"
     ]
    }
   ],
   "source": [
    "r = 2\n",
    "h = 0.001\n",
    "\n",
    "dt_values = [h, r * h, r**2 * h]\n",
    "u_values = []\n",
    "\n",
    "for dt in dt_values:\n",
    "    N = int(T / dt) +1\n",
    "    u = numpy.empty((N,4))\n",
    "    u[0] = numpy.array([v0, theta0, x0, y0])\n",
    "    for n in range(N-1):\n",
    "        u[n + 1] = rk2_step(u[n], rhs_phugoid, dt, CL, CD, g, vt)\n",
    "    u_values.append(u)\n",
    "        \n",
    "p = (math.log(l1_diff(u_values[2], u_values[1], dt_values[2]) /\n",
    "             l1_diff(u_values[1], u_values[0], dt_values[1])) /\n",
    "    math.log(r))\n",
    "\n",
    "print('Observed order of convergence: p = {:.3f}'.format(p))"
   ]
  },
  {
   "cell_type": "code",
   "execution_count": 26,
   "metadata": {},
   "outputs": [],
   "source": [
    "#Leap Frog Method"
   ]
  },
  {
   "cell_type": "code",
   "execution_count": 27,
   "metadata": {},
   "outputs": [],
   "source": [
    "def leapfrog_step(u_prev, u, f, dt, *args):\n",
    "    u_new = u_prev + 2.0 * dt * f(u,*args)\n",
    "    return u_new"
   ]
  },
  {
   "cell_type": "code",
   "execution_count": 33,
   "metadata": {},
   "outputs": [],
   "source": [
    "# Set parameters.\n",
    "g = 9.81  # gravitational acceleration (m.s^{-2})\n",
    "vt = 4.9  # trim velocity (m.s)\n",
    "CD = 1.0 / 5.0  # drag coefficient\n",
    "CL = 1.0  # lift coefficient\n",
    "\n",
    "# Set initial conditions.\n",
    "v0 = 6.5  # start at the trim velocity\n",
    "theta0 = -0.1  # trajectory angle\n",
    "x0 = 0.0  # horizontal position\n",
    "y0 = 25.0  # vertical position (altitude)\n",
    "\n",
    "T = 36.0  # length of the time interval\n",
    "dt = 0.01  # time-step size\n",
    "N = int(T / dt) + 1  # number of time steps\n",
    "\n",
    "# Create arrays to store the solution at each time step.\n",
    "u_leapfrog = numpy.empty((N, 4))\n",
    "# Set the initial conditions.\n",
    "u_leapfrog[0] = numpy.array([v0, theta0, x0, y0])\n",
    "# Use the RK2 method for the first time step.\n",
    "u_leapfrog[1] = rk2_step(u_leapfrog[0], rhs_phugoid, dt, CL, CD, g, vt)"
   ]
  },
  {
   "cell_type": "code",
   "execution_count": 34,
   "metadata": {},
   "outputs": [
    {
     "name": "stderr",
     "output_type": "stream",
     "text": [
      "/opt/conda/lib/python3.6/site-packages/ipykernel_launcher.py:26: RuntimeWarning: overflow encountered in double_scalars\n"
     ]
    },
    {
     "ename": "ValueError",
     "evalue": "math domain error",
     "output_type": "error",
     "traceback": [
      "\u001b[0;31m---------------------------------------------------------------------------\u001b[0m",
      "\u001b[0;31mValueError\u001b[0m                                Traceback (most recent call last)",
      "\u001b[0;32m<ipython-input-34-bbea8342f3c2>\u001b[0m in \u001b[0;36m<module>\u001b[0;34m()\u001b[0m\n\u001b[1;32m      1\u001b[0m \u001b[0;32mfor\u001b[0m \u001b[0mn\u001b[0m \u001b[0;32min\u001b[0m \u001b[0mrange\u001b[0m\u001b[0;34m(\u001b[0m\u001b[0;36m1\u001b[0m\u001b[0;34m,\u001b[0m \u001b[0mN\u001b[0m\u001b[0;34m-\u001b[0m\u001b[0;36m1\u001b[0m\u001b[0;34m)\u001b[0m\u001b[0;34m:\u001b[0m\u001b[0;34m\u001b[0m\u001b[0m\n\u001b[1;32m      2\u001b[0m     u_leapfrog[n + 1] = leapfrog_step(u_leapfrog[n-1], u_leapfrog[n],\n\u001b[0;32m----> 3\u001b[0;31m                                      rhs_phugoid, dt, CL, CD, g, vt)\n\u001b[0m",
      "\u001b[0;32m<ipython-input-27-7c9ebe6db54e>\u001b[0m in \u001b[0;36mleapfrog_step\u001b[0;34m(u_prev, u, f, dt, *args)\u001b[0m\n\u001b[1;32m      1\u001b[0m \u001b[0;32mdef\u001b[0m \u001b[0mleapfrog_step\u001b[0m\u001b[0;34m(\u001b[0m\u001b[0mu_prev\u001b[0m\u001b[0;34m,\u001b[0m \u001b[0mu\u001b[0m\u001b[0;34m,\u001b[0m \u001b[0mf\u001b[0m\u001b[0;34m,\u001b[0m \u001b[0mdt\u001b[0m\u001b[0;34m,\u001b[0m \u001b[0;34m*\u001b[0m\u001b[0margs\u001b[0m\u001b[0;34m)\u001b[0m\u001b[0;34m:\u001b[0m\u001b[0;34m\u001b[0m\u001b[0m\n\u001b[0;32m----> 2\u001b[0;31m     \u001b[0mu_new\u001b[0m \u001b[0;34m=\u001b[0m \u001b[0mu_prev\u001b[0m \u001b[0;34m+\u001b[0m \u001b[0;36m2.0\u001b[0m \u001b[0;34m*\u001b[0m \u001b[0mdt\u001b[0m \u001b[0;34m*\u001b[0m \u001b[0mf\u001b[0m\u001b[0;34m(\u001b[0m\u001b[0mu\u001b[0m\u001b[0;34m,\u001b[0m\u001b[0;34m*\u001b[0m\u001b[0margs\u001b[0m\u001b[0;34m)\u001b[0m\u001b[0;34m\u001b[0m\u001b[0m\n\u001b[0m\u001b[1;32m      3\u001b[0m     \u001b[0;32mreturn\u001b[0m \u001b[0mu_new\u001b[0m\u001b[0;34m\u001b[0m\u001b[0m\n",
      "\u001b[0;32m<ipython-input-5-e521b07c4101>\u001b[0m in \u001b[0;36mrhs_phugoid\u001b[0;34m(u, CL, CD, g, vt)\u001b[0m\n\u001b[1;32m     24\u001b[0m     \"\"\"\n\u001b[1;32m     25\u001b[0m     \u001b[0mv\u001b[0m\u001b[0;34m,\u001b[0m \u001b[0mtheta\u001b[0m\u001b[0;34m,\u001b[0m \u001b[0mx\u001b[0m\u001b[0;34m,\u001b[0m \u001b[0my\u001b[0m \u001b[0;34m=\u001b[0m \u001b[0mu\u001b[0m\u001b[0;34m\u001b[0m\u001b[0m\n\u001b[0;32m---> 26\u001b[0;31m     rhs = numpy.array([-g * math.sin(theta) - CD / CL * g / vt**2 * v**2,\n\u001b[0m\u001b[1;32m     27\u001b[0m                        \u001b[0;34m-\u001b[0m\u001b[0mg\u001b[0m \u001b[0;34m*\u001b[0m \u001b[0mmath\u001b[0m\u001b[0;34m.\u001b[0m\u001b[0mcos\u001b[0m\u001b[0;34m(\u001b[0m\u001b[0mtheta\u001b[0m\u001b[0;34m)\u001b[0m \u001b[0;34m/\u001b[0m \u001b[0mv\u001b[0m \u001b[0;34m+\u001b[0m \u001b[0mg\u001b[0m \u001b[0;34m/\u001b[0m \u001b[0mvt\u001b[0m\u001b[0;34m**\u001b[0m\u001b[0;36m2\u001b[0m \u001b[0;34m*\u001b[0m \u001b[0mv\u001b[0m\u001b[0;34m,\u001b[0m\u001b[0;34m\u001b[0m\u001b[0m\n\u001b[1;32m     28\u001b[0m                        \u001b[0mv\u001b[0m \u001b[0;34m*\u001b[0m \u001b[0mmath\u001b[0m\u001b[0;34m.\u001b[0m\u001b[0mcos\u001b[0m\u001b[0;34m(\u001b[0m\u001b[0mtheta\u001b[0m\u001b[0;34m)\u001b[0m\u001b[0;34m,\u001b[0m\u001b[0;34m\u001b[0m\u001b[0m\n",
      "\u001b[0;31mValueError\u001b[0m: math domain error"
     ]
    }
   ],
   "source": [
    "for n in range(1, N-1):\n",
    "    u_leapfrog[n + 1] = leapfrog_step(u_leapfrog[n-1], u_leapfrog[n],\n",
    "                                     rhs_phugoid, dt, CL, CD, g, vt)"
   ]
  },
  {
   "cell_type": "code",
   "execution_count": 35,
   "metadata": {},
   "outputs": [],
   "source": [
    "# Get the glider's position over the time.\n",
    "x_leapfrog = u_leapfrog[:, 2]\n",
    "y_leapfrog = u_leapfrog[:, 3]\n",
    "\n",
    "# Get the index of the first negative element of y_leapfrog.\n",
    "idx_negative_leapfrog = numpy.where(y_leapfrog < 0.0)[0]\n",
    "if len(idx_negative_leapfrog) == 0:\n",
    "    idx_ground_leapfrog = N - 1\n",
    "    print('[leapfrog] Glider has not touched ground yet!')\n",
    "else:\n",
    "    idx_ground_leapfrog = idx_negative_leapfrog[0]"
   ]
  },
  {
   "cell_type": "code",
   "execution_count": 36,
   "metadata": {},
   "outputs": [
    {
     "name": "stdout",
     "output_type": "stream",
     "text": [
      "Distance traveled: 123.917\n"
     ]
    },
    {
     "data": {
      "image/png": "[encoded data removed]",
      "text/plain": [
       "<Figure size 648x432 with 2 Axes>"
      ]
     },
     "metadata": {},
     "output_type": "display_data"
    }
   ],
   "source": [
    "print('Distance traveled: {:.3f}'.format(x_leapfrog[idx_ground_leapfrog - 1]))\n",
    "\n",
    "# Plot the glider's path for the leapfrog scheme.\n",
    "pyplot.figure(figsize=(9.0, 6.0))\n",
    "pyplot.subplot(121)\n",
    "pyplot.grid()\n",
    "pyplot.xlabel('x')\n",
    "pyplot.ylabel('y')\n",
    "pyplot.plot(x_leapfrog[:idx_ground_leapfrog],\n",
    "            y_leapfrog[:idx_ground_leapfrog])\n",
    "# Let's take a closer look!\n",
    "pyplot.subplot(122)\n",
    "pyplot.grid()\n",
    "pyplot.xlabel('x')\n",
    "pyplot.ylabel('y')\n",
    "pyplot.plot(x_leapfrog, y_leapfrog)\n",
    "pyplot.xlim(0.0, 5.0)\n",
    "pyplot.ylim(1.8, 2.5);"
   ]
  },
  {
   "cell_type": "code",
   "execution_count": 37,
   "metadata": {},
   "outputs": [
    {
     "name": "stdout",
     "output_type": "stream",
     "text": [
      "Observed order of convergence: p = 4.181\n"
     ]
    }
   ],
   "source": [
    "r = 2  # time-step size refinement ratio\n",
    "h = 0.001  # finest time-step size\n",
    "\n",
    "dt_values = [h, r * h, r**2 * h]\n",
    "u_values = []\n",
    "\n",
    "for dt in dt_values:\n",
    "    N = int(T / dt) + 1  # number of time steps\n",
    "    # Set initial conditions.\n",
    "    u = numpy.empty((N, 4))\n",
    "    u[0] = numpy.array([v0, theta0, x0, y0])\n",
    "    # Use RK2 for the first time step.\n",
    "    u[1] = rk2_step(u[0], rhs_phugoid, dt, CL, CD, g, vt)\n",
    "    # Time integration using the leapfrog scheme.\n",
    "    for n in range(1, N - 1):\n",
    "        u[n + 1] = leapfrog_step(u[n - 1], u[n], rhs_phugoid, dt,\n",
    "                                 CL, CD, g, vt)\n",
    "    # Store the solution for the present time grid.\n",
    "    u_values.append(u)\n",
    "\n",
    "# Compute the observed order of convergence.\n",
    "p = (math.log(l1_diff(u_values[2][:, 2], u_values[1][:, 2],\n",
    "                      dt_values[2]) /\n",
    "              l1_diff(u_values[1][:, 2], u_values[0][:, 2],\n",
    "                      dt_values[1])) /\n",
    "     math.log(r))\n",
    "\n",
    "print('Observed order of convergence: p = {:.3f}'.format(p))"
   ]
  },
  {
   "cell_type": "code",
   "execution_count": null,
   "metadata": {},
   "outputs": [],
   "source": []
  },
  {
   "cell_type": "code",
   "execution_count": null,
   "metadata": {},
   "outputs": [],
   "source": []
  }
 ],
 "metadata": {
  "kernelspec": {
   "display_name": "Python 3",
   "language": "python",
   "name": "python3"
  },
  "language_info": {
   "codemirror_mode": {
    "name": "ipython",
    "version": 3
   },
   "file_extension": ".py",
   "mimetype": "text/x-python",
   "name": "python",
   "nbconvert_exporter": "python",
   "pygments_lexer": "ipython3",
   "version": "3.6.2"
  }
 },
 "nbformat": 4,
 "nbformat_minor": 2
}
