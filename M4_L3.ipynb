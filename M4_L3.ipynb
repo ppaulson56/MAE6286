{
 "cells": [
  {
   "cell_type": "code",
   "execution_count": 1,
   "metadata": {},
   "outputs": [],
   "source": [
    "import numpy\n",
    "from matplotlib import pyplot\n",
    "%matplotlib inline"
   ]
  },
  {
   "cell_type": "code",
   "execution_count": 2,
   "metadata": {},
   "outputs": [],
   "source": [
    "#Set parameters\n",
    "Lx = 0.01\n",
    "Ly = 0.01\n",
    "nx = 21\n",
    "ny = 21\n",
    "dx = Lx / (nx - 1)\n",
    "dy = Ly / (ny - 1)\n",
    "alpha = 1e-4\n",
    "\n",
    "x = numpy.linspace(0.0, Lx, num=nx)\n",
    "y = numpy.linspace(0.0, Ly, num=ny)\n",
    "\n",
    "#Initial conditions\n",
    "T0 = 20.0 * numpy.ones((ny, nx))\n",
    "T0[0, :] = 100.0\n",
    "T0[:, 0] = 100.0"
   ]
  },
  {
   "cell_type": "code",
   "execution_count": 4,
   "metadata": {},
   "outputs": [],
   "source": [
    "def ftcs(T0, nt, dt, dx, dy, alpha):\n",
    "    T = T0.copy()\n",
    "    sigma_x = alpha * dt / dx**2\n",
    "    sigma_y = alpha * dt / dy**2\n",
    "    I, J = int(nx / 2), int(ny / 2)  # indices of the center\n",
    "    for n in range(nt):\n",
    "        T[1:-1, 1:-1] = (T[1:-1, 1:-1] +\n",
    "                         sigma_x * (T[1:-1, 2:] - 2.0 * T[1:-1, 1:-1] + T[1:-1, :-2]) +\n",
    "                         sigma_y * (T[2:, 1:-1] - 2.0 * T[1:-1, 1:-1] + T[:-2, 1:-1]))\n",
    "        T[0, :] = 100.0 #Bottom\n",
    "        T[:, 0] = 100.0 #Left\n",
    "        # Apply Neumann conditions (zero-gradient).\n",
    "        T[-1, :] = T[-2, :] #Top\n",
    "        T[:, -1] = T[:, -2] #Right\n",
    "        # Check if the center of the domain has reached T = 70C.\n",
    "        if T[J, I] >= 70.0:\n",
    "            break\n",
    "    print('[time step {}] Center at T={:.2f} at t={:.2f} s'\n",
    "          .format(n + 1, T[J, I], (n + 1) * dt))\n",
    "    return T"
   ]
  },
  {
   "cell_type": "code",
   "execution_count": 12,
   "metadata": {},
   "outputs": [],
   "source": [
    "sigma = 0.5\n",
    "dt = sigma / (alpha * (1 / dx**2 + 1 / dy**2))\n",
    "nt = 500"
   ]
  },
  {
   "cell_type": "code",
   "execution_count": 13,
   "metadata": {},
   "outputs": [
    {
     "name": "stdout",
     "output_type": "stream",
     "text": [
      "[time step 256] Center at T=70.02 at t=0.16 s\n"
     ]
    }
   ],
   "source": [
    "T = ftcs(T0, nt, dt, dx, dy, alpha)"
   ]
  },
  {
   "cell_type": "code",
   "execution_count": 14,
   "metadata": {},
   "outputs": [
    {
     "data": {
      "image/png": "[encoded data removed]",
      "text/plain": [
       "<Figure size 576x360 with 2 Axes>"
      ]
     },
     "metadata": {},
     "output_type": "display_data"
    }
   ],
   "source": [
    "# Plot the filled contour of the temperature.\n",
    "pyplot.figure(figsize=(8.0, 5.0))\n",
    "pyplot.xlabel('x [m]')\n",
    "pyplot.ylabel('y [m]')\n",
    "levels = numpy.linspace(20.0, 100.0, num=51)\n",
    "contf = pyplot.contourf(x, y, T, levels=levels)\n",
    "cbar = pyplot.colorbar(contf)\n",
    "cbar.set_label('Temperature [C]')\n",
    "pyplot.axis('scaled', adjustable='box');"
   ]
  },
  {
   "cell_type": "code",
   "execution_count": null,
   "metadata": {},
   "outputs": [],
   "source": []
  }
 ],
 "metadata": {
  "kernelspec": {
   "display_name": "Python 3",
   "language": "python",
   "name": "python3"
  },
  "language_info": {
   "codemirror_mode": {
    "name": "ipython",
    "version": 3
   },
   "file_extension": ".py",
   "mimetype": "text/x-python",
   "name": "python",
   "nbconvert_exporter": "python",
   "pygments_lexer": "ipython3",
   "version": "3.6.2"
  }
 },
 "nbformat": 4,
 "nbformat_minor": 2
}
